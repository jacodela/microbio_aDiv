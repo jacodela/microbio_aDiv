{
 "cells": [
  {
   "cell_type": "markdown",
   "metadata": {},
   "source": [
    "# Adjust pvalues\n",
    "\n",
    "Because of multiple hypothesis testing, p-values should be ajusted. For simplicity, we will perform p-value adjustment in a single notebook"
   ]
  },
  {
   "cell_type": "markdown",
   "metadata": {},
   "source": [
    "## Libraries"
   ]
  },
  {
   "cell_type": "code",
   "execution_count": 2,
   "metadata": {},
   "outputs": [],
   "source": [
    "library(tidyverse)"
   ]
  },
  {
   "cell_type": "markdown",
   "metadata": {},
   "source": [
    "## Load data"
   ]
  },
  {
   "cell_type": "code",
   "execution_count": 3,
   "metadata": {},
   "outputs": [],
   "source": [
    "Chn_pvals = read.delim(\"./Chn_pval.tsv\")\n",
    "Col_pvals = read.delim(\"./Col_pval.tsv\")\n",
    "US_UK_pvals = read.delim(\"./US_UK_pval.tsv\")"
   ]
  },
  {
   "cell_type": "code",
   "execution_count": 6,
   "metadata": {},
   "outputs": [
    {
     "name": "stderr",
     "output_type": "stream",
     "text": [
      "Warning message in bind_rows_(x, .id):\n",
      "“Unequal factor levels: coercing to character”Warning message in bind_rows_(x, .id):\n",
      "“binding character and factor vector, coercing into character vector”Warning message in bind_rows_(x, .id):\n",
      "“binding character and factor vector, coercing into character vector”Warning message in bind_rows_(x, .id):\n",
      "“binding character and factor vector, coercing into character vector”"
     ]
    },
    {
     "data": {
      "text/html": [
       "<table>\n",
       "<thead><tr><th scope=col>Population</th><th scope=col>Metric</th><th scope=col>Test</th><th scope=col>pval</th></tr></thead>\n",
       "<tbody>\n",
       "\t<tr><td>Chn           </td><td>Richness      </td><td>age_young     </td><td>0.414595239   </td></tr>\n",
       "\t<tr><td>Chn           </td><td>Richness      </td><td>age_middle    </td><td>0.135054002   </td></tr>\n",
       "\t<tr><td>Chn           </td><td>Shannon       </td><td>age_young     </td><td>0.659850047   </td></tr>\n",
       "\t<tr><td>Chn           </td><td>Shannon       </td><td>age_middle    </td><td>0.002737906   </td></tr>\n",
       "\t<tr><td>Chn           </td><td>Richness      </td><td>age_sex_young </td><td>0.120610434   </td></tr>\n",
       "\t<tr><td>Chn           </td><td>Richness      </td><td>age_sex_middle</td><td>0.040023069   </td></tr>\n",
       "</tbody>\n",
       "</table>\n"
      ],
      "text/latex": [
       "\\begin{tabular}{r|llll}\n",
       " Population & Metric & Test & pval\\\\\n",
       "\\hline\n",
       "\t Chn              & Richness         & age\\_young      & 0.414595239     \\\\\n",
       "\t Chn              & Richness         & age\\_middle     & 0.135054002     \\\\\n",
       "\t Chn              & Shannon          & age\\_young      & 0.659850047     \\\\\n",
       "\t Chn              & Shannon          & age\\_middle     & 0.002737906     \\\\\n",
       "\t Chn                & Richness           & age\\_sex\\_young  & 0.120610434       \\\\\n",
       "\t Chn                & Richness           & age\\_sex\\_middle & 0.040023069       \\\\\n",
       "\\end{tabular}\n"
      ],
      "text/markdown": [
       "\n",
       "Population | Metric | Test | pval | \n",
       "|---|---|---|---|---|---|\n",
       "| Chn            | Richness       | age_young      | 0.414595239    | \n",
       "| Chn            | Richness       | age_middle     | 0.135054002    | \n",
       "| Chn            | Shannon        | age_young      | 0.659850047    | \n",
       "| Chn            | Shannon        | age_middle     | 0.002737906    | \n",
       "| Chn            | Richness       | age_sex_young  | 0.120610434    | \n",
       "| Chn            | Richness       | age_sex_middle | 0.040023069    | \n",
       "\n",
       "\n"
      ],
      "text/plain": [
       "  Population Metric   Test           pval       \n",
       "1 Chn        Richness age_young      0.414595239\n",
       "2 Chn        Richness age_middle     0.135054002\n",
       "3 Chn        Shannon  age_young      0.659850047\n",
       "4 Chn        Shannon  age_middle     0.002737906\n",
       "5 Chn        Richness age_sex_young  0.120610434\n",
       "6 Chn        Richness age_sex_middle 0.040023069"
      ]
     },
     "metadata": {},
     "output_type": "display_data"
    }
   ],
   "source": [
    "# Joint tables\n",
    "P_values = bind_rows(Chn_pvals, Col_pvals, US_UK_pvals)\n",
    "P_values %>% head"
   ]
  },
  {
   "cell_type": "markdown",
   "metadata": {},
   "source": [
    "# Adjust pvals"
   ]
  },
  {
   "cell_type": "code",
   "execution_count": null,
   "metadata": {},
   "outputs": [],
   "source": [
    "# p of association of age and richness in both age groups\n",
    "# Richness\n",
    "P_values %>% filter(Metric == \"Richness\") %>% \n",
    "    filter(Test  ==\"age_young\" | Test  == \"age_middle\") %>%\n",
    "    mutate(padj = p.adjust(pval, \"BH\"))\n",
    "\n",
    "# Shannon\n",
    "P_values %>% filter(Metric == \"Shannon\") %>% \n",
    "    filter(Test  ==\"age_young\" | Test  == \"age_middle\") %>%\n",
    "    mutate(padj = p.adjust(pval, \"BH\"))"
   ]
  },
  {
   "cell_type": "code",
   "execution_count": null,
   "metadata": {},
   "outputs": [],
   "source": [
    "# p of association of age, sex and richness in both age groups\n",
    "# Richness\n",
    "P_values %>% filter(Metric == \"Richness\") %>% \n",
    "    filter(Test  ==\"age_sex_young\" | Test  == \"age_sex_middle\") %>%\n",
    "    mutate(padj = p.adjust(pval, \"BH\"))\n",
    "\n",
    "# Shannon\n",
    "P_values %>% filter(Metric == \"Shannon\") %>% \n",
    "    filter(Test  ==\"age_sex_young\" | Test  == \"age_sex_middle\") %>%\n",
    "    mutate(padj = p.adjust(pval, \"BH\"))"
   ]
  },
  {
   "cell_type": "code",
   "execution_count": null,
   "metadata": {},
   "outputs": [],
   "source": [
    "# p of association of age, sex and richness in both age groups with interaction\n",
    "# Richness\n",
    "P_values %>% filter(Metric == \"Richness\") %>% \n",
    "    filter(Test  ==\"age_sex_interaction_young\" | Test  == \"age_sex_interaction_middle\") %>%\n",
    "    mutate(padj = p.adjust(pval, \"BH\"))\n",
    "\n",
    "# Shannon\n",
    "P_values %>% filter(Metric == \"Shannon\") %>% \n",
    "    filter(Test  ==\"age_sex_interaction_young\" | Test  == \"age_sex_interaction_middle\") %>%\n",
    "    mutate(padj = p.adjust(pval, \"BH\"))"
   ]
  },
  {
   "cell_type": "markdown",
   "metadata": {},
   "source": [
    "# Session info\n",
    "For reproducibility"
   ]
  },
  {
   "cell_type": "code",
   "execution_count": null,
   "metadata": {},
   "outputs": [],
   "source": [
    "sessionInfo()"
   ]
  }
 ],
 "metadata": {
  "kernelspec": {
   "display_name": "R",
   "language": "R",
   "name": "ir"
  },
  "language_info": {
   "codemirror_mode": "r",
   "file_extension": ".r",
   "mimetype": "text/x-r-source",
   "name": "R",
   "pygments_lexer": "r",
   "version": "3.5.1"
  }
 },
 "nbformat": 4,
 "nbformat_minor": 2
}
