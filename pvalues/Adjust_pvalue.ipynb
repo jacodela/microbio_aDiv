{
 "cells": [
  {
   "cell_type": "markdown",
   "metadata": {},
   "source": [
    "# Adjust pvalues\n",
    "\n",
    "Because of multiple hypothesis testing, p-values should be ajusted. For simplicity, we will perform p-value adjustment in a single notebook"
   ]
  },
  {
   "cell_type": "markdown",
   "metadata": {},
   "source": [
    "## Libraries"
   ]
  },
  {
   "cell_type": "code",
   "execution_count": 8,
   "metadata": {},
   "outputs": [],
   "source": [
    "library(tidyverse)"
   ]
  },
  {
   "cell_type": "markdown",
   "metadata": {},
   "source": [
    "## Load data"
   ]
  },
  {
   "cell_type": "code",
   "execution_count": 9,
   "metadata": {},
   "outputs": [],
   "source": [
    "Chn_pvals = read.delim(\"./Chn_pval.tsv\")\n",
    "Col_pvals = read.delim(\"./Col_pval.tsv\")\n",
    "US_UK_pvals = read.delim(\"./US_UK_pval.tsv\")"
   ]
  },
  {
   "cell_type": "code",
   "execution_count": 10,
   "metadata": {},
   "outputs": [
    {
     "name": "stderr",
     "output_type": "stream",
     "text": [
      "Warning message in bind_rows_(x, .id):\n",
      "“Unequal factor levels: coercing to character”Warning message in bind_rows_(x, .id):\n",
      "“binding character and factor vector, coercing into character vector”Warning message in bind_rows_(x, .id):\n",
      "“binding character and factor vector, coercing into character vector”Warning message in bind_rows_(x, .id):\n",
      "“binding character and factor vector, coercing into character vector”"
     ]
    },
    {
     "data": {
      "text/html": [
       "<table>\n",
       "<thead><tr><th scope=col>Population</th><th scope=col>Metric</th><th scope=col>Test</th><th scope=col>pval</th></tr></thead>\n",
       "<tbody>\n",
       "\t<tr><td>Chn           </td><td>Richness      </td><td>age_young     </td><td>0.414595239   </td></tr>\n",
       "\t<tr><td>Chn           </td><td>Richness      </td><td>age_middle    </td><td>0.135054002   </td></tr>\n",
       "\t<tr><td>Chn           </td><td>Shannon       </td><td>age_young     </td><td>0.659850047   </td></tr>\n",
       "\t<tr><td>Chn           </td><td>Shannon       </td><td>age_middle    </td><td>0.002737906   </td></tr>\n",
       "\t<tr><td>Chn           </td><td>Richness      </td><td>age_sex_young </td><td>0.120610434   </td></tr>\n",
       "\t<tr><td>Chn           </td><td>Richness      </td><td>age_sex_middle</td><td>0.040023069   </td></tr>\n",
       "</tbody>\n",
       "</table>\n"
      ],
      "text/latex": [
       "\\begin{tabular}{r|llll}\n",
       " Population & Metric & Test & pval\\\\\n",
       "\\hline\n",
       "\t Chn              & Richness         & age\\_young      & 0.414595239     \\\\\n",
       "\t Chn              & Richness         & age\\_middle     & 0.135054002     \\\\\n",
       "\t Chn              & Shannon          & age\\_young      & 0.659850047     \\\\\n",
       "\t Chn              & Shannon          & age\\_middle     & 0.002737906     \\\\\n",
       "\t Chn                & Richness           & age\\_sex\\_young  & 0.120610434       \\\\\n",
       "\t Chn                & Richness           & age\\_sex\\_middle & 0.040023069       \\\\\n",
       "\\end{tabular}\n"
      ],
      "text/markdown": [
       "\n",
       "Population | Metric | Test | pval | \n",
       "|---|---|---|---|---|---|\n",
       "| Chn            | Richness       | age_young      | 0.414595239    | \n",
       "| Chn            | Richness       | age_middle     | 0.135054002    | \n",
       "| Chn            | Shannon        | age_young      | 0.659850047    | \n",
       "| Chn            | Shannon        | age_middle     | 0.002737906    | \n",
       "| Chn            | Richness       | age_sex_young  | 0.120610434    | \n",
       "| Chn            | Richness       | age_sex_middle | 0.040023069    | \n",
       "\n",
       "\n"
      ],
      "text/plain": [
       "  Population Metric   Test           pval       \n",
       "1 Chn        Richness age_young      0.414595239\n",
       "2 Chn        Richness age_middle     0.135054002\n",
       "3 Chn        Shannon  age_young      0.659850047\n",
       "4 Chn        Shannon  age_middle     0.002737906\n",
       "5 Chn        Richness age_sex_young  0.120610434\n",
       "6 Chn        Richness age_sex_middle 0.040023069"
      ]
     },
     "metadata": {},
     "output_type": "display_data"
    }
   ],
   "source": [
    "# Joint tables\n",
    "P_values = bind_rows(Chn_pvals, Col_pvals, US_UK_pvals)\n",
    "P_values %>% head"
   ]
  },
  {
   "cell_type": "markdown",
   "metadata": {},
   "source": [
    "# Adjust pvals"
   ]
  },
  {
   "cell_type": "code",
   "execution_count": 18,
   "metadata": {},
   "outputs": [
    {
     "data": {
      "text/html": [
       "<table>\n",
       "<thead><tr><th scope=col>Population</th><th scope=col>Metric</th><th scope=col>Test</th><th scope=col>pval</th><th scope=col>padj</th></tr></thead>\n",
       "<tbody>\n",
       "\t<tr><td>Chn       </td><td>Richness  </td><td>age_young </td><td>0.415     </td><td>0.474     </td></tr>\n",
       "\t<tr><td>Chn       </td><td>Richness  </td><td>age_middle</td><td>0.135     </td><td>0.216     </td></tr>\n",
       "\t<tr><td>Col       </td><td>Richness  </td><td>age_young </td><td>0.003     </td><td>0.008     </td></tr>\n",
       "\t<tr><td>Col       </td><td>Richness  </td><td>age_middle</td><td>0.773     </td><td>0.773     </td></tr>\n",
       "\t<tr><td>US        </td><td>Richness  </td><td>age_young </td><td>0.000     </td><td>0.000     </td></tr>\n",
       "\t<tr><td>US        </td><td>Richness  </td><td>age_middle</td><td>0.404     </td><td>0.474     </td></tr>\n",
       "\t<tr><td>UK        </td><td>Richness  </td><td>age_young </td><td>0.001     </td><td>0.004     </td></tr>\n",
       "\t<tr><td>UK        </td><td>Richness  </td><td>age_middle</td><td>0.111     </td><td>0.216     </td></tr>\n",
       "</tbody>\n",
       "</table>\n"
      ],
      "text/latex": [
       "\\begin{tabular}{r|lllll}\n",
       " Population & Metric & Test & pval & padj\\\\\n",
       "\\hline\n",
       "\t Chn          & Richness     & age\\_young  & 0.415        & 0.474       \\\\\n",
       "\t Chn          & Richness     & age\\_middle & 0.135        & 0.216       \\\\\n",
       "\t Col          & Richness     & age\\_young  & 0.003        & 0.008       \\\\\n",
       "\t Col          & Richness     & age\\_middle & 0.773        & 0.773       \\\\\n",
       "\t US           & Richness     & age\\_young  & 0.000        & 0.000       \\\\\n",
       "\t US           & Richness     & age\\_middle & 0.404        & 0.474       \\\\\n",
       "\t UK           & Richness     & age\\_young  & 0.001        & 0.004       \\\\\n",
       "\t UK           & Richness     & age\\_middle & 0.111        & 0.216       \\\\\n",
       "\\end{tabular}\n"
      ],
      "text/markdown": [
       "\n",
       "Population | Metric | Test | pval | padj | \n",
       "|---|---|---|---|---|---|---|---|\n",
       "| Chn        | Richness   | age_young  | 0.415      | 0.474      | \n",
       "| Chn        | Richness   | age_middle | 0.135      | 0.216      | \n",
       "| Col        | Richness   | age_young  | 0.003      | 0.008      | \n",
       "| Col        | Richness   | age_middle | 0.773      | 0.773      | \n",
       "| US         | Richness   | age_young  | 0.000      | 0.000      | \n",
       "| US         | Richness   | age_middle | 0.404      | 0.474      | \n",
       "| UK         | Richness   | age_young  | 0.001      | 0.004      | \n",
       "| UK         | Richness   | age_middle | 0.111      | 0.216      | \n",
       "\n",
       "\n"
      ],
      "text/plain": [
       "  Population Metric   Test       pval  padj \n",
       "1 Chn        Richness age_young  0.415 0.474\n",
       "2 Chn        Richness age_middle 0.135 0.216\n",
       "3 Col        Richness age_young  0.003 0.008\n",
       "4 Col        Richness age_middle 0.773 0.773\n",
       "5 US         Richness age_young  0.000 0.000\n",
       "6 US         Richness age_middle 0.404 0.474\n",
       "7 UK         Richness age_young  0.001 0.004\n",
       "8 UK         Richness age_middle 0.111 0.216"
      ]
     },
     "metadata": {},
     "output_type": "display_data"
    },
    {
     "data": {
      "text/html": [
       "<table>\n",
       "<thead><tr><th scope=col>Population</th><th scope=col>Metric</th><th scope=col>Test</th><th scope=col>pval</th><th scope=col>padj</th></tr></thead>\n",
       "<tbody>\n",
       "\t<tr><td>Chn       </td><td>Shannon   </td><td>age_young </td><td>0.660     </td><td>0.660     </td></tr>\n",
       "\t<tr><td>Chn       </td><td>Shannon   </td><td>age_middle</td><td>0.003     </td><td>0.006     </td></tr>\n",
       "\t<tr><td>Col       </td><td>Shannon   </td><td>age_young </td><td>0.002     </td><td>0.006     </td></tr>\n",
       "\t<tr><td>Col       </td><td>Shannon   </td><td>age_middle</td><td>0.524     </td><td>0.599     </td></tr>\n",
       "\t<tr><td>US        </td><td>Shannon   </td><td>age_young </td><td>0.002     </td><td>0.006     </td></tr>\n",
       "\t<tr><td>US        </td><td>Shannon   </td><td>age_middle</td><td>0.359     </td><td>0.479     </td></tr>\n",
       "\t<tr><td>UK        </td><td>Shannon   </td><td>age_young </td><td>0.003     </td><td>0.006     </td></tr>\n",
       "\t<tr><td>UK        </td><td>Shannon   </td><td>age_middle</td><td>0.206     </td><td>0.330     </td></tr>\n",
       "</tbody>\n",
       "</table>\n"
      ],
      "text/latex": [
       "\\begin{tabular}{r|lllll}\n",
       " Population & Metric & Test & pval & padj\\\\\n",
       "\\hline\n",
       "\t Chn          & Shannon      & age\\_young  & 0.660        & 0.660       \\\\\n",
       "\t Chn          & Shannon      & age\\_middle & 0.003        & 0.006       \\\\\n",
       "\t Col          & Shannon      & age\\_young  & 0.002        & 0.006       \\\\\n",
       "\t Col          & Shannon      & age\\_middle & 0.524        & 0.599       \\\\\n",
       "\t US           & Shannon      & age\\_young  & 0.002        & 0.006       \\\\\n",
       "\t US           & Shannon      & age\\_middle & 0.359        & 0.479       \\\\\n",
       "\t UK           & Shannon      & age\\_young  & 0.003        & 0.006       \\\\\n",
       "\t UK           & Shannon      & age\\_middle & 0.206        & 0.330       \\\\\n",
       "\\end{tabular}\n"
      ],
      "text/markdown": [
       "\n",
       "Population | Metric | Test | pval | padj | \n",
       "|---|---|---|---|---|---|---|---|\n",
       "| Chn        | Shannon    | age_young  | 0.660      | 0.660      | \n",
       "| Chn        | Shannon    | age_middle | 0.003      | 0.006      | \n",
       "| Col        | Shannon    | age_young  | 0.002      | 0.006      | \n",
       "| Col        | Shannon    | age_middle | 0.524      | 0.599      | \n",
       "| US         | Shannon    | age_young  | 0.002      | 0.006      | \n",
       "| US         | Shannon    | age_middle | 0.359      | 0.479      | \n",
       "| UK         | Shannon    | age_young  | 0.003      | 0.006      | \n",
       "| UK         | Shannon    | age_middle | 0.206      | 0.330      | \n",
       "\n",
       "\n"
      ],
      "text/plain": [
       "  Population Metric  Test       pval  padj \n",
       "1 Chn        Shannon age_young  0.660 0.660\n",
       "2 Chn        Shannon age_middle 0.003 0.006\n",
       "3 Col        Shannon age_young  0.002 0.006\n",
       "4 Col        Shannon age_middle 0.524 0.599\n",
       "5 US         Shannon age_young  0.002 0.006\n",
       "6 US         Shannon age_middle 0.359 0.479\n",
       "7 UK         Shannon age_young  0.003 0.006\n",
       "8 UK         Shannon age_middle 0.206 0.330"
      ]
     },
     "metadata": {},
     "output_type": "display_data"
    }
   ],
   "source": [
    "# p of association of age and richness in both age groups\n",
    "# Richness\n",
    "P_values %>% filter(Metric == \"Richness\") %>% \n",
    "    filter(Test  ==\"age_young\" | Test  == \"age_middle\") %>%\n",
    "    mutate(pval = pval %>% round (., 3),\n",
    "           padj = p.adjust(pval, \"BH\") %>% round (., 3))\n",
    "\n",
    "# Shannon\n",
    "P_values %>% filter(Metric == \"Shannon\") %>% \n",
    "    filter(Test  ==\"age_young\" | Test  == \"age_middle\") %>%\n",
    "    mutate(pval = pval %>% round (., 3),\n",
    "           padj = p.adjust(pval, \"BH\") %>% round (., 3))"
   ]
  },
  {
   "cell_type": "code",
   "execution_count": 19,
   "metadata": {},
   "outputs": [
    {
     "data": {
      "text/html": [
       "<table>\n",
       "<thead><tr><th scope=col>Population</th><th scope=col>Metric</th><th scope=col>Test</th><th scope=col>pval</th><th scope=col>padj</th></tr></thead>\n",
       "<tbody>\n",
       "\t<tr><td>Chn           </td><td>Richness      </td><td>age_sex_young </td><td>0.121         </td><td>0.194         </td></tr>\n",
       "\t<tr><td>Chn           </td><td>Richness      </td><td>age_sex_middle</td><td>0.040         </td><td>0.107         </td></tr>\n",
       "\t<tr><td>Col           </td><td>Richness      </td><td>age_sex_young </td><td>0.006         </td><td>0.024         </td></tr>\n",
       "\t<tr><td>Col           </td><td>Richness      </td><td>age_sex_middle</td><td>0.169         </td><td>0.225         </td></tr>\n",
       "\t<tr><td>US            </td><td>Richness      </td><td>age_sex_young </td><td>0.067         </td><td>0.134         </td></tr>\n",
       "\t<tr><td>US            </td><td>Richness      </td><td>age_sex_middle</td><td>0.484         </td><td>0.484         </td></tr>\n",
       "\t<tr><td>UK            </td><td>Richness      </td><td>age_sex_young </td><td>0.003         </td><td>0.024         </td></tr>\n",
       "\t<tr><td>UK            </td><td>Richness      </td><td>age_sex_middle</td><td>0.236         </td><td>0.270         </td></tr>\n",
       "</tbody>\n",
       "</table>\n"
      ],
      "text/latex": [
       "\\begin{tabular}{r|lllll}\n",
       " Population & Metric & Test & pval & padj\\\\\n",
       "\\hline\n",
       "\t Chn                & Richness           & age\\_sex\\_young  & 0.121              & 0.194             \\\\\n",
       "\t Chn                & Richness           & age\\_sex\\_middle & 0.040              & 0.107             \\\\\n",
       "\t Col                & Richness           & age\\_sex\\_young  & 0.006              & 0.024             \\\\\n",
       "\t Col                & Richness           & age\\_sex\\_middle & 0.169              & 0.225             \\\\\n",
       "\t US                 & Richness           & age\\_sex\\_young  & 0.067              & 0.134             \\\\\n",
       "\t US                 & Richness           & age\\_sex\\_middle & 0.484              & 0.484             \\\\\n",
       "\t UK                 & Richness           & age\\_sex\\_young  & 0.003              & 0.024             \\\\\n",
       "\t UK                 & Richness           & age\\_sex\\_middle & 0.236              & 0.270             \\\\\n",
       "\\end{tabular}\n"
      ],
      "text/markdown": [
       "\n",
       "Population | Metric | Test | pval | padj | \n",
       "|---|---|---|---|---|---|---|---|\n",
       "| Chn            | Richness       | age_sex_young  | 0.121          | 0.194          | \n",
       "| Chn            | Richness       | age_sex_middle | 0.040          | 0.107          | \n",
       "| Col            | Richness       | age_sex_young  | 0.006          | 0.024          | \n",
       "| Col            | Richness       | age_sex_middle | 0.169          | 0.225          | \n",
       "| US             | Richness       | age_sex_young  | 0.067          | 0.134          | \n",
       "| US             | Richness       | age_sex_middle | 0.484          | 0.484          | \n",
       "| UK             | Richness       | age_sex_young  | 0.003          | 0.024          | \n",
       "| UK             | Richness       | age_sex_middle | 0.236          | 0.270          | \n",
       "\n",
       "\n"
      ],
      "text/plain": [
       "  Population Metric   Test           pval  padj \n",
       "1 Chn        Richness age_sex_young  0.121 0.194\n",
       "2 Chn        Richness age_sex_middle 0.040 0.107\n",
       "3 Col        Richness age_sex_young  0.006 0.024\n",
       "4 Col        Richness age_sex_middle 0.169 0.225\n",
       "5 US         Richness age_sex_young  0.067 0.134\n",
       "6 US         Richness age_sex_middle 0.484 0.484\n",
       "7 UK         Richness age_sex_young  0.003 0.024\n",
       "8 UK         Richness age_sex_middle 0.236 0.270"
      ]
     },
     "metadata": {},
     "output_type": "display_data"
    },
    {
     "data": {
      "text/html": [
       "<table>\n",
       "<thead><tr><th scope=col>Population</th><th scope=col>Metric</th><th scope=col>Test</th><th scope=col>pval</th><th scope=col>padj</th></tr></thead>\n",
       "<tbody>\n",
       "\t<tr><td>Chn           </td><td>Shannon       </td><td>age_sex_young </td><td>0.076         </td><td>0.203         </td></tr>\n",
       "\t<tr><td>Chn           </td><td>Shannon       </td><td>age_sex_middle</td><td>0.040         </td><td>0.160         </td></tr>\n",
       "\t<tr><td>Col           </td><td>Shannon       </td><td>age_sex_young </td><td>0.294         </td><td>0.392         </td></tr>\n",
       "\t<tr><td>Col           </td><td>Shannon       </td><td>age_sex_middle</td><td>0.169         </td><td>0.338         </td></tr>\n",
       "\t<tr><td>US            </td><td>Shannon       </td><td>age_sex_young </td><td>0.425         </td><td>0.484         </td></tr>\n",
       "\t<tr><td>US            </td><td>Shannon       </td><td>age_sex_middle</td><td>0.484         </td><td>0.484         </td></tr>\n",
       "\t<tr><td>UK            </td><td>Shannon       </td><td>age_sex_young </td><td>0.006         </td><td>0.048         </td></tr>\n",
       "\t<tr><td>UK            </td><td>Shannon       </td><td>age_sex_middle</td><td>0.236         </td><td>0.378         </td></tr>\n",
       "</tbody>\n",
       "</table>\n"
      ],
      "text/latex": [
       "\\begin{tabular}{r|lllll}\n",
       " Population & Metric & Test & pval & padj\\\\\n",
       "\\hline\n",
       "\t Chn                & Shannon            & age\\_sex\\_young  & 0.076              & 0.203             \\\\\n",
       "\t Chn                & Shannon            & age\\_sex\\_middle & 0.040              & 0.160             \\\\\n",
       "\t Col                & Shannon            & age\\_sex\\_young  & 0.294              & 0.392             \\\\\n",
       "\t Col                & Shannon            & age\\_sex\\_middle & 0.169              & 0.338             \\\\\n",
       "\t US                 & Shannon            & age\\_sex\\_young  & 0.425              & 0.484             \\\\\n",
       "\t US                 & Shannon            & age\\_sex\\_middle & 0.484              & 0.484             \\\\\n",
       "\t UK                 & Shannon            & age\\_sex\\_young  & 0.006              & 0.048             \\\\\n",
       "\t UK                 & Shannon            & age\\_sex\\_middle & 0.236              & 0.378             \\\\\n",
       "\\end{tabular}\n"
      ],
      "text/markdown": [
       "\n",
       "Population | Metric | Test | pval | padj | \n",
       "|---|---|---|---|---|---|---|---|\n",
       "| Chn            | Shannon        | age_sex_young  | 0.076          | 0.203          | \n",
       "| Chn            | Shannon        | age_sex_middle | 0.040          | 0.160          | \n",
       "| Col            | Shannon        | age_sex_young  | 0.294          | 0.392          | \n",
       "| Col            | Shannon        | age_sex_middle | 0.169          | 0.338          | \n",
       "| US             | Shannon        | age_sex_young  | 0.425          | 0.484          | \n",
       "| US             | Shannon        | age_sex_middle | 0.484          | 0.484          | \n",
       "| UK             | Shannon        | age_sex_young  | 0.006          | 0.048          | \n",
       "| UK             | Shannon        | age_sex_middle | 0.236          | 0.378          | \n",
       "\n",
       "\n"
      ],
      "text/plain": [
       "  Population Metric  Test           pval  padj \n",
       "1 Chn        Shannon age_sex_young  0.076 0.203\n",
       "2 Chn        Shannon age_sex_middle 0.040 0.160\n",
       "3 Col        Shannon age_sex_young  0.294 0.392\n",
       "4 Col        Shannon age_sex_middle 0.169 0.338\n",
       "5 US         Shannon age_sex_young  0.425 0.484\n",
       "6 US         Shannon age_sex_middle 0.484 0.484\n",
       "7 UK         Shannon age_sex_young  0.006 0.048\n",
       "8 UK         Shannon age_sex_middle 0.236 0.378"
      ]
     },
     "metadata": {},
     "output_type": "display_data"
    }
   ],
   "source": [
    "# p of association of age, sex and richness in both age groups\n",
    "# Richness\n",
    "P_values %>% filter(Metric == \"Richness\") %>% \n",
    "    filter(Test  ==\"age_sex_young\" | Test  == \"age_sex_middle\") %>%\n",
    "    mutate(pval = pval %>% round (., 3),\n",
    "           padj = p.adjust(pval, \"BH\") %>% round (., 3))\n",
    "\n",
    "# Shannon\n",
    "P_values %>% filter(Metric == \"Shannon\") %>% \n",
    "    filter(Test  ==\"age_sex_young\" | Test  == \"age_sex_middle\") %>%\n",
    "    mutate(pval = pval %>% round (., 3),\n",
    "           padj = p.adjust(pval, \"BH\") %>% round (., 3))"
   ]
  },
  {
   "cell_type": "code",
   "execution_count": 20,
   "metadata": {},
   "outputs": [
    {
     "data": {
      "text/html": [
       "<table>\n",
       "<thead><tr><th scope=col>Population</th><th scope=col>Metric</th><th scope=col>Test</th><th scope=col>pval</th><th scope=col>padj</th></tr></thead>\n",
       "<tbody>\n",
       "\t<tr><td>Chn                       </td><td>Richness                  </td><td>age_sex_interaction_young </td><td>0.740                     </td><td>0.913                     </td></tr>\n",
       "\t<tr><td>Chn                       </td><td>Richness                  </td><td>age_sex_interaction_middle</td><td>0.459                     </td><td>0.734                     </td></tr>\n",
       "\t<tr><td>Col                       </td><td>Richness                  </td><td>age_sex_interaction_young </td><td>0.913                     </td><td>0.913                     </td></tr>\n",
       "\t<tr><td>Col                       </td><td>Richness                  </td><td>age_sex_interaction_middle</td><td>0.816                     </td><td>0.913                     </td></tr>\n",
       "\t<tr><td>US                        </td><td>Richness                  </td><td>age_sex_interaction_young </td><td>0.153                     </td><td>0.557                     </td></tr>\n",
       "\t<tr><td>US                        </td><td>Richness                  </td><td>age_sex_interaction_middle</td><td>0.291                     </td><td>0.582                     </td></tr>\n",
       "\t<tr><td>UK                        </td><td>Richness                  </td><td>age_sex_interaction_young </td><td>0.096                     </td><td>0.557                     </td></tr>\n",
       "\t<tr><td>UK                        </td><td>Richness                  </td><td>age_sex_interaction_middle</td><td>0.209                     </td><td>0.557                     </td></tr>\n",
       "</tbody>\n",
       "</table>\n"
      ],
      "text/latex": [
       "\\begin{tabular}{r|lllll}\n",
       " Population & Metric & Test & pval & padj\\\\\n",
       "\\hline\n",
       "\t Chn                              & Richness                         & age\\_sex\\_interaction\\_young  & 0.740                            & 0.913                           \\\\\n",
       "\t Chn                              & Richness                         & age\\_sex\\_interaction\\_middle & 0.459                            & 0.734                           \\\\\n",
       "\t Col                              & Richness                         & age\\_sex\\_interaction\\_young  & 0.913                            & 0.913                           \\\\\n",
       "\t Col                              & Richness                         & age\\_sex\\_interaction\\_middle & 0.816                            & 0.913                           \\\\\n",
       "\t US                               & Richness                         & age\\_sex\\_interaction\\_young  & 0.153                            & 0.557                           \\\\\n",
       "\t US                               & Richness                         & age\\_sex\\_interaction\\_middle & 0.291                            & 0.582                           \\\\\n",
       "\t UK                               & Richness                         & age\\_sex\\_interaction\\_young  & 0.096                            & 0.557                           \\\\\n",
       "\t UK                               & Richness                         & age\\_sex\\_interaction\\_middle & 0.209                            & 0.557                           \\\\\n",
       "\\end{tabular}\n"
      ],
      "text/markdown": [
       "\n",
       "Population | Metric | Test | pval | padj | \n",
       "|---|---|---|---|---|---|---|---|\n",
       "| Chn                        | Richness                   | age_sex_interaction_young  | 0.740                      | 0.913                      | \n",
       "| Chn                        | Richness                   | age_sex_interaction_middle | 0.459                      | 0.734                      | \n",
       "| Col                        | Richness                   | age_sex_interaction_young  | 0.913                      | 0.913                      | \n",
       "| Col                        | Richness                   | age_sex_interaction_middle | 0.816                      | 0.913                      | \n",
       "| US                         | Richness                   | age_sex_interaction_young  | 0.153                      | 0.557                      | \n",
       "| US                         | Richness                   | age_sex_interaction_middle | 0.291                      | 0.582                      | \n",
       "| UK                         | Richness                   | age_sex_interaction_young  | 0.096                      | 0.557                      | \n",
       "| UK                         | Richness                   | age_sex_interaction_middle | 0.209                      | 0.557                      | \n",
       "\n",
       "\n"
      ],
      "text/plain": [
       "  Population Metric   Test                       pval  padj \n",
       "1 Chn        Richness age_sex_interaction_young  0.740 0.913\n",
       "2 Chn        Richness age_sex_interaction_middle 0.459 0.734\n",
       "3 Col        Richness age_sex_interaction_young  0.913 0.913\n",
       "4 Col        Richness age_sex_interaction_middle 0.816 0.913\n",
       "5 US         Richness age_sex_interaction_young  0.153 0.557\n",
       "6 US         Richness age_sex_interaction_middle 0.291 0.582\n",
       "7 UK         Richness age_sex_interaction_young  0.096 0.557\n",
       "8 UK         Richness age_sex_interaction_middle 0.209 0.557"
      ]
     },
     "metadata": {},
     "output_type": "display_data"
    },
    {
     "data": {
      "text/html": [
       "<table>\n",
       "<thead><tr><th scope=col>Population</th><th scope=col>Metric</th><th scope=col>Test</th><th scope=col>pval</th><th scope=col>padj</th></tr></thead>\n",
       "<tbody>\n",
       "\t<tr><td>Chn                       </td><td>Shannon                   </td><td>age_sex_interaction_young </td><td>0.169                     </td><td>0.451                     </td></tr>\n",
       "\t<tr><td>Chn                       </td><td>Shannon                   </td><td>age_sex_interaction_middle</td><td>0.396                     </td><td>0.792                     </td></tr>\n",
       "\t<tr><td>Col                       </td><td>Shannon                   </td><td>age_sex_interaction_young </td><td>0.707                     </td><td>0.824                     </td></tr>\n",
       "\t<tr><td>Col                       </td><td>Shannon                   </td><td>age_sex_interaction_middle</td><td>0.655                     </td><td>0.824                     </td></tr>\n",
       "\t<tr><td>US                        </td><td>Shannon                   </td><td>age_sex_interaction_young </td><td>0.021                     </td><td>0.152                     </td></tr>\n",
       "\t<tr><td>US                        </td><td>Shannon                   </td><td>age_sex_interaction_middle</td><td>0.909                     </td><td>0.909                     </td></tr>\n",
       "\t<tr><td>UK                        </td><td>Shannon                   </td><td>age_sex_interaction_young </td><td>0.038                     </td><td>0.152                     </td></tr>\n",
       "\t<tr><td>UK                        </td><td>Shannon                   </td><td>age_sex_interaction_middle</td><td>0.721                     </td><td>0.824                     </td></tr>\n",
       "</tbody>\n",
       "</table>\n"
      ],
      "text/latex": [
       "\\begin{tabular}{r|lllll}\n",
       " Population & Metric & Test & pval & padj\\\\\n",
       "\\hline\n",
       "\t Chn                              & Shannon                          & age\\_sex\\_interaction\\_young  & 0.169                            & 0.451                           \\\\\n",
       "\t Chn                              & Shannon                          & age\\_sex\\_interaction\\_middle & 0.396                            & 0.792                           \\\\\n",
       "\t Col                              & Shannon                          & age\\_sex\\_interaction\\_young  & 0.707                            & 0.824                           \\\\\n",
       "\t Col                              & Shannon                          & age\\_sex\\_interaction\\_middle & 0.655                            & 0.824                           \\\\\n",
       "\t US                               & Shannon                          & age\\_sex\\_interaction\\_young  & 0.021                            & 0.152                           \\\\\n",
       "\t US                               & Shannon                          & age\\_sex\\_interaction\\_middle & 0.909                            & 0.909                           \\\\\n",
       "\t UK                               & Shannon                          & age\\_sex\\_interaction\\_young  & 0.038                            & 0.152                           \\\\\n",
       "\t UK                               & Shannon                          & age\\_sex\\_interaction\\_middle & 0.721                            & 0.824                           \\\\\n",
       "\\end{tabular}\n"
      ],
      "text/markdown": [
       "\n",
       "Population | Metric | Test | pval | padj | \n",
       "|---|---|---|---|---|---|---|---|\n",
       "| Chn                        | Shannon                    | age_sex_interaction_young  | 0.169                      | 0.451                      | \n",
       "| Chn                        | Shannon                    | age_sex_interaction_middle | 0.396                      | 0.792                      | \n",
       "| Col                        | Shannon                    | age_sex_interaction_young  | 0.707                      | 0.824                      | \n",
       "| Col                        | Shannon                    | age_sex_interaction_middle | 0.655                      | 0.824                      | \n",
       "| US                         | Shannon                    | age_sex_interaction_young  | 0.021                      | 0.152                      | \n",
       "| US                         | Shannon                    | age_sex_interaction_middle | 0.909                      | 0.909                      | \n",
       "| UK                         | Shannon                    | age_sex_interaction_young  | 0.038                      | 0.152                      | \n",
       "| UK                         | Shannon                    | age_sex_interaction_middle | 0.721                      | 0.824                      | \n",
       "\n",
       "\n"
      ],
      "text/plain": [
       "  Population Metric  Test                       pval  padj \n",
       "1 Chn        Shannon age_sex_interaction_young  0.169 0.451\n",
       "2 Chn        Shannon age_sex_interaction_middle 0.396 0.792\n",
       "3 Col        Shannon age_sex_interaction_young  0.707 0.824\n",
       "4 Col        Shannon age_sex_interaction_middle 0.655 0.824\n",
       "5 US         Shannon age_sex_interaction_young  0.021 0.152\n",
       "6 US         Shannon age_sex_interaction_middle 0.909 0.909\n",
       "7 UK         Shannon age_sex_interaction_young  0.038 0.152\n",
       "8 UK         Shannon age_sex_interaction_middle 0.721 0.824"
      ]
     },
     "metadata": {},
     "output_type": "display_data"
    }
   ],
   "source": [
    "# p of association of age, sex and richness in both age groups with interaction\n",
    "# Richness\n",
    "P_values %>% filter(Metric == \"Richness\") %>% \n",
    "    filter(Test  ==\"age_sex_interaction_young\" | Test  == \"age_sex_interaction_middle\") %>%\n",
    "    mutate(pval = pval %>% round (., 3),\n",
    "           padj = p.adjust(pval, \"BH\") %>% round (., 3))\n",
    "\n",
    "# Shannon\n",
    "P_values %>% filter(Metric == \"Shannon\") %>% \n",
    "    filter(Test  ==\"age_sex_interaction_young\" | Test  == \"age_sex_interaction_middle\") %>%\n",
    "    mutate(pval = pval %>% round (., 3),\n",
    "           padj = p.adjust(pval, \"BH\") %>% round (., 3))"
   ]
  },
  {
   "cell_type": "markdown",
   "metadata": {},
   "source": [
    "# Session info\n",
    "For reproducibility"
   ]
  },
  {
   "cell_type": "code",
   "execution_count": 14,
   "metadata": {},
   "outputs": [
    {
     "data": {
      "text/plain": [
       "R version 3.5.1 (2018-07-02)\n",
       "Platform: x86_64-apple-darwin13.4.0 (64-bit)\n",
       "Running under: macOS High Sierra 10.13.6\n",
       "\n",
       "Matrix products: default\n",
       "BLAS/LAPACK: /Users/jdelacuesta/miniconda3/lib/R/lib/libRblas.dylib\n",
       "\n",
       "locale:\n",
       "[1] en_US.UTF-8/en_US.UTF-8/en_US.UTF-8/C/en_US.UTF-8/en_US.UTF-8\n",
       "\n",
       "attached base packages:\n",
       "[1] stats     graphics  grDevices utils     datasets  methods   base     \n",
       "\n",
       "other attached packages:\n",
       " [1] bindrcpp_0.2.2  forcats_0.3.0   stringr_1.3.1   dplyr_0.7.6    \n",
       " [5] purrr_0.2.5     readr_1.1.1     tidyr_0.8.1     tibble_1.4.2   \n",
       " [9] ggplot2_3.0.0   tidyverse_1.2.1\n",
       "\n",
       "loaded via a namespace (and not attached):\n",
       " [1] pbdZMQ_0.3-3     tidyselect_0.2.4 repr_0.15.0      haven_2.1.0     \n",
       " [5] lattice_0.20-35  colorspace_1.3-2 htmltools_0.3.6  base64enc_0.1-3 \n",
       " [9] rlang_0.2.1      pillar_1.3.0     glue_1.3.0       withr_2.1.2     \n",
       "[13] modelr_0.1.2     readxl_1.1.0     uuid_0.1-2       bindr_0.1.1     \n",
       "[17] plyr_1.8.4       munsell_0.5.0    gtable_0.2.0     cellranger_1.1.0\n",
       "[21] rvest_0.3.2      evaluate_0.11    broom_0.5.0      IRdisplay_0.5.0 \n",
       "[25] Rcpp_0.12.18     backports_1.1.2  scales_0.5.0     IRkernel_0.8.15 \n",
       "[29] jsonlite_1.5     hms_0.4.2        digest_0.6.15    stringi_1.2.4   \n",
       "[33] grid_3.5.1       cli_1.0.0        tools_3.5.1      magrittr_1.5    \n",
       "[37] lazyeval_0.2.1   crayon_1.3.4     pkgconfig_2.0.1  xml2_1.2.0      \n",
       "[41] lubridate_1.7.4  assertthat_0.2.0 httr_1.3.1       rstudioapi_0.7  \n",
       "[45] R6_2.2.2         nlme_3.1-137     compiler_3.5.1  "
      ]
     },
     "metadata": {},
     "output_type": "display_data"
    }
   ],
   "source": [
    "sessionInfo()"
   ]
  }
 ],
 "metadata": {
  "kernelspec": {
   "display_name": "R",
   "language": "R",
   "name": "ir"
  },
  "language_info": {
   "codemirror_mode": "r",
   "file_extension": ".r",
   "mimetype": "text/x-r-source",
   "name": "R",
   "pygments_lexer": "r",
   "version": "3.5.1"
  }
 },
 "nbformat": 4,
 "nbformat_minor": 2
}
