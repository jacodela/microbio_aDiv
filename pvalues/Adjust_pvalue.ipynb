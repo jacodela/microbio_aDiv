{
 "cells": [
  {
   "cell_type": "markdown",
   "metadata": {},
   "source": [
    "# Adjust pvalues\n",
    "\n",
    "Because of multiple hypothesis testing, p-values should be ajusted. For simplicity, we will perform p-value adjustment in a single notebook"
   ]
  },
  {
   "cell_type": "markdown",
   "metadata": {},
   "source": [
    "## Libraries"
   ]
  },
  {
   "cell_type": "code",
   "execution_count": 2,
   "metadata": {},
   "outputs": [
    {
     "name": "stderr",
     "output_type": "stream",
     "text": [
      "── Attaching packages ─────────────────────────────────────── tidyverse 1.2.1 ──\n",
      "✔ ggplot2 3.0.0     ✔ purrr   0.2.5\n",
      "✔ tibble  1.4.2     ✔ dplyr   0.7.6\n",
      "✔ tidyr   0.8.1     ✔ stringr 1.3.1\n",
      "✔ readr   1.1.1     ✔ forcats 0.3.0\n",
      "── Conflicts ────────────────────────────────────────── tidyverse_conflicts() ──\n",
      "✖ dplyr::filter() masks stats::filter()\n",
      "✖ dplyr::lag()    masks stats::lag()\n"
     ]
    }
   ],
   "source": [
    "library(tidyverse)"
   ]
  },
  {
   "cell_type": "markdown",
   "metadata": {},
   "source": [
    "## Load data"
   ]
  },
  {
   "cell_type": "code",
   "execution_count": 3,
   "metadata": {},
   "outputs": [],
   "source": [
    "Chn_pvals = read.delim(\"./Chn_pval.tsv\")\n",
    "Col_pvals = read.delim(\"./Col_pval.tsv\")\n",
    "US_UK_pvals = read.delim(\"./US_UK_pval.tsv\")"
   ]
  },
  {
   "cell_type": "code",
   "execution_count": 5,
   "metadata": {},
   "outputs": [
    {
     "name": "stderr",
     "output_type": "stream",
     "text": [
      "Warning message in bind_rows_(x, .id):\n",
      "“Unequal factor levels: coercing to character”Warning message in bind_rows_(x, .id):\n",
      "“binding character and factor vector, coercing into character vector”Warning message in bind_rows_(x, .id):\n",
      "“binding character and factor vector, coercing into character vector”Warning message in bind_rows_(x, .id):\n",
      "“binding character and factor vector, coercing into character vector”"
     ]
    }
   ],
   "source": [
    "# Joint tables\n",
    "P_values = bind_rows(Chn_pvals, Col_pvals, US_UK_pvals)"
   ]
  },
  {
   "cell_type": "code",
   "execution_count": 6,
   "metadata": {},
   "outputs": [
    {
     "data": {
      "text/html": [
       "<table>\n",
       "<thead><tr><th scope=col>Population</th><th scope=col>Metric</th><th scope=col>Test</th><th scope=col>pval</th></tr></thead>\n",
       "<tbody>\n",
       "\t<tr><td>Chn                       </td><td>Richness                  </td><td>age_young                 </td><td>4.145952e-01              </td></tr>\n",
       "\t<tr><td>Chn                       </td><td>Richness                  </td><td>age_middle                </td><td>1.350540e-01              </td></tr>\n",
       "\t<tr><td>Chn                       </td><td>Shannon                   </td><td>age_young                 </td><td>6.598500e-01              </td></tr>\n",
       "\t<tr><td>Chn                       </td><td>Shannon                   </td><td>age_middle                </td><td>2.737906e-03              </td></tr>\n",
       "\t<tr><td>Chn                       </td><td>Richness                  </td><td>age_sex_young             </td><td>1.206104e-01              </td></tr>\n",
       "\t<tr><td>Chn                       </td><td>Richness                  </td><td>age_sex_middle            </td><td>4.002307e-02              </td></tr>\n",
       "\t<tr><td>Chn                       </td><td>Richness                  </td><td>age_sex_interaction_young </td><td>7.402108e-01              </td></tr>\n",
       "\t<tr><td>Chn                       </td><td>Richness                  </td><td>age_sex_interaction_middle</td><td>4.593593e-01              </td></tr>\n",
       "\t<tr><td>Chn                       </td><td>Shannon                   </td><td>age_sex_young             </td><td>7.551479e-02              </td></tr>\n",
       "\t<tr><td>Chn                       </td><td>Shannon                   </td><td>age_sex_middle            </td><td>4.002307e-02              </td></tr>\n",
       "\t<tr><td>Chn                       </td><td>Shannon                   </td><td>age_sex_interaction_young </td><td>1.686050e-01              </td></tr>\n",
       "\t<tr><td>Chn                       </td><td>Shannon                   </td><td>age_sex_interaction_middle</td><td>3.961857e-01              </td></tr>\n",
       "\t<tr><td>Col                       </td><td>Richness                  </td><td>age_young                 </td><td>3.181024e-03              </td></tr>\n",
       "\t<tr><td>Col                       </td><td>Richness                  </td><td>age_middle                </td><td>7.734459e-01              </td></tr>\n",
       "\t<tr><td>Col                       </td><td>Shannon                   </td><td>age_young                 </td><td>1.608296e-03              </td></tr>\n",
       "\t<tr><td>Col                       </td><td>Shannon                   </td><td>age_middle                </td><td>5.238024e-01              </td></tr>\n",
       "\t<tr><td>Col                       </td><td>Richness                  </td><td>age_sex_young             </td><td>6.312991e-03              </td></tr>\n",
       "\t<tr><td>Col                       </td><td>Richness                  </td><td>age_sex_middle            </td><td>1.692489e-01              </td></tr>\n",
       "\t<tr><td>Col                       </td><td>Shannon                   </td><td>age_sex_young             </td><td>2.936359e-01              </td></tr>\n",
       "\t<tr><td>Col                       </td><td>Shannon                   </td><td>age_sex_middle            </td><td>1.692489e-01              </td></tr>\n",
       "\t<tr><td>Col                       </td><td>Richness                  </td><td>age_sex_interaction_young </td><td>9.128351e-01              </td></tr>\n",
       "\t<tr><td>Col                       </td><td>Richness                  </td><td>age_sex_interaction_middle</td><td>8.155276e-01              </td></tr>\n",
       "\t<tr><td>Col                       </td><td>Shannon                   </td><td>age_sex_interaction_young </td><td>7.067406e-01              </td></tr>\n",
       "\t<tr><td>Col                       </td><td>Shannon                   </td><td>age_sex_interaction_middle</td><td>6.551640e-01              </td></tr>\n",
       "\t<tr><td>US                        </td><td>Richness                  </td><td>age_young                 </td><td>2.743997e-07              </td></tr>\n",
       "\t<tr><td>US                        </td><td>Richness                  </td><td>age_middle                </td><td>4.042339e-01              </td></tr>\n",
       "\t<tr><td>US                        </td><td>Shannon                   </td><td>age_young                 </td><td>1.941751e-03              </td></tr>\n",
       "\t<tr><td>US                        </td><td>Shannon                   </td><td>age_middle                </td><td>3.586374e-01              </td></tr>\n",
       "\t<tr><td>US                        </td><td>Richness                  </td><td>age_sex_young             </td><td>6.663793e-02              </td></tr>\n",
       "\t<tr><td>US                        </td><td>Richness                  </td><td>age_sex_middle            </td><td>4.841080e-01              </td></tr>\n",
       "\t<tr><td>US                        </td><td>Richness                  </td><td>age_sex_interaction_young </td><td>1.530188e-01              </td></tr>\n",
       "\t<tr><td>US                        </td><td>Richness                  </td><td>age_sex_interaction_middle</td><td>2.905111e-01              </td></tr>\n",
       "\t<tr><td>US                        </td><td>Shannon                   </td><td>age_sex_young             </td><td>4.250873e-01              </td></tr>\n",
       "\t<tr><td>US                        </td><td>Shannon                   </td><td>age_sex_middle            </td><td>4.841080e-01              </td></tr>\n",
       "\t<tr><td>US                        </td><td>Shannon                   </td><td>age_sex_interaction_young </td><td>2.132877e-02              </td></tr>\n",
       "\t<tr><td>US                        </td><td>Shannon                   </td><td>age_sex_interaction_middle</td><td>9.087981e-01              </td></tr>\n",
       "\t<tr><td>UK                        </td><td>Richness                  </td><td>age_young                 </td><td>7.244974e-04              </td></tr>\n",
       "\t<tr><td>UK                        </td><td>Richness                  </td><td>age_middle                </td><td>1.113959e-01              </td></tr>\n",
       "\t<tr><td>UK                        </td><td>Shannon                   </td><td>age_young                 </td><td>3.420294e-03              </td></tr>\n",
       "\t<tr><td>UK                        </td><td>Shannon                   </td><td>age_middle                </td><td>2.059775e-01              </td></tr>\n",
       "\t<tr><td>UK                        </td><td>Richness                  </td><td>age_sex_young             </td><td>3.019963e-03              </td></tr>\n",
       "\t<tr><td>UK                        </td><td>Richness                  </td><td>age_sex_middle            </td><td>2.359698e-01              </td></tr>\n",
       "\t<tr><td>UK                        </td><td>Richness                  </td><td>age_sex_interaction_young </td><td>9.614258e-02              </td></tr>\n",
       "\t<tr><td>UK                        </td><td>Richness                  </td><td>age_sex_interaction_middle</td><td>2.092882e-01              </td></tr>\n",
       "\t<tr><td>UK                        </td><td>Shannon                   </td><td>age_sex_young             </td><td>5.740632e-03              </td></tr>\n",
       "\t<tr><td>UK                        </td><td>Shannon                   </td><td>age_sex_middle            </td><td>2.359698e-01              </td></tr>\n",
       "\t<tr><td>UK                        </td><td>Shannon                   </td><td>age_sex_interaction_young </td><td>3.755357e-02              </td></tr>\n",
       "\t<tr><td>UK                        </td><td>Shannon                   </td><td>age_sex_interaction_middle</td><td>7.211422e-01              </td></tr>\n",
       "</tbody>\n",
       "</table>\n"
      ],
      "text/latex": [
       "\\begin{tabular}{r|llll}\n",
       " Population & Metric & Test & pval\\\\\n",
       "\\hline\n",
       "\t Chn                          & Richness                     & age\\_young                  & 4.145952e-01                \\\\\n",
       "\t Chn                          & Richness                     & age\\_middle                 & 1.350540e-01                \\\\\n",
       "\t Chn                          & Shannon                      & age\\_young                  & 6.598500e-01                \\\\\n",
       "\t Chn                          & Shannon                      & age\\_middle                 & 2.737906e-03                \\\\\n",
       "\t Chn                            & Richness                       & age\\_sex\\_young              & 1.206104e-01                  \\\\\n",
       "\t Chn                            & Richness                       & age\\_sex\\_middle             & 4.002307e-02                  \\\\\n",
       "\t Chn                              & Richness                         & age\\_sex\\_interaction\\_young  & 7.402108e-01                    \\\\\n",
       "\t Chn                              & Richness                         & age\\_sex\\_interaction\\_middle & 4.593593e-01                    \\\\\n",
       "\t Chn                            & Shannon                        & age\\_sex\\_young              & 7.551479e-02                  \\\\\n",
       "\t Chn                            & Shannon                        & age\\_sex\\_middle             & 4.002307e-02                  \\\\\n",
       "\t Chn                              & Shannon                          & age\\_sex\\_interaction\\_young  & 1.686050e-01                    \\\\\n",
       "\t Chn                              & Shannon                          & age\\_sex\\_interaction\\_middle & 3.961857e-01                    \\\\\n",
       "\t Col                          & Richness                     & age\\_young                  & 3.181024e-03                \\\\\n",
       "\t Col                          & Richness                     & age\\_middle                 & 7.734459e-01                \\\\\n",
       "\t Col                          & Shannon                      & age\\_young                  & 1.608296e-03                \\\\\n",
       "\t Col                          & Shannon                      & age\\_middle                 & 5.238024e-01                \\\\\n",
       "\t Col                            & Richness                       & age\\_sex\\_young              & 6.312991e-03                  \\\\\n",
       "\t Col                            & Richness                       & age\\_sex\\_middle             & 1.692489e-01                  \\\\\n",
       "\t Col                            & Shannon                        & age\\_sex\\_young              & 2.936359e-01                  \\\\\n",
       "\t Col                            & Shannon                        & age\\_sex\\_middle             & 1.692489e-01                  \\\\\n",
       "\t Col                              & Richness                         & age\\_sex\\_interaction\\_young  & 9.128351e-01                    \\\\\n",
       "\t Col                              & Richness                         & age\\_sex\\_interaction\\_middle & 8.155276e-01                    \\\\\n",
       "\t Col                              & Shannon                          & age\\_sex\\_interaction\\_young  & 7.067406e-01                    \\\\\n",
       "\t Col                              & Shannon                          & age\\_sex\\_interaction\\_middle & 6.551640e-01                    \\\\\n",
       "\t US                           & Richness                     & age\\_young                  & 2.743997e-07                \\\\\n",
       "\t US                           & Richness                     & age\\_middle                 & 4.042339e-01                \\\\\n",
       "\t US                           & Shannon                      & age\\_young                  & 1.941751e-03                \\\\\n",
       "\t US                           & Shannon                      & age\\_middle                 & 3.586374e-01                \\\\\n",
       "\t US                             & Richness                       & age\\_sex\\_young              & 6.663793e-02                  \\\\\n",
       "\t US                             & Richness                       & age\\_sex\\_middle             & 4.841080e-01                  \\\\\n",
       "\t US                               & Richness                         & age\\_sex\\_interaction\\_young  & 1.530188e-01                    \\\\\n",
       "\t US                               & Richness                         & age\\_sex\\_interaction\\_middle & 2.905111e-01                    \\\\\n",
       "\t US                             & Shannon                        & age\\_sex\\_young              & 4.250873e-01                  \\\\\n",
       "\t US                             & Shannon                        & age\\_sex\\_middle             & 4.841080e-01                  \\\\\n",
       "\t US                               & Shannon                          & age\\_sex\\_interaction\\_young  & 2.132877e-02                    \\\\\n",
       "\t US                               & Shannon                          & age\\_sex\\_interaction\\_middle & 9.087981e-01                    \\\\\n",
       "\t UK                           & Richness                     & age\\_young                  & 7.244974e-04                \\\\\n",
       "\t UK                           & Richness                     & age\\_middle                 & 1.113959e-01                \\\\\n",
       "\t UK                           & Shannon                      & age\\_young                  & 3.420294e-03                \\\\\n",
       "\t UK                           & Shannon                      & age\\_middle                 & 2.059775e-01                \\\\\n",
       "\t UK                             & Richness                       & age\\_sex\\_young              & 3.019963e-03                  \\\\\n",
       "\t UK                             & Richness                       & age\\_sex\\_middle             & 2.359698e-01                  \\\\\n",
       "\t UK                               & Richness                         & age\\_sex\\_interaction\\_young  & 9.614258e-02                    \\\\\n",
       "\t UK                               & Richness                         & age\\_sex\\_interaction\\_middle & 2.092882e-01                    \\\\\n",
       "\t UK                             & Shannon                        & age\\_sex\\_young              & 5.740632e-03                  \\\\\n",
       "\t UK                             & Shannon                        & age\\_sex\\_middle             & 2.359698e-01                  \\\\\n",
       "\t UK                               & Shannon                          & age\\_sex\\_interaction\\_young  & 3.755357e-02                    \\\\\n",
       "\t UK                               & Shannon                          & age\\_sex\\_interaction\\_middle & 7.211422e-01                    \\\\\n",
       "\\end{tabular}\n"
      ],
      "text/markdown": [
       "\n",
       "Population | Metric | Test | pval | \n",
       "|---|---|---|---|---|---|---|---|---|---|---|---|---|---|---|---|---|---|---|---|---|---|---|---|---|---|---|---|---|---|---|---|---|---|---|---|---|---|---|---|---|---|---|---|---|---|---|---|\n",
       "| Chn                        | Richness                   | age_young                  | 4.145952e-01               | \n",
       "| Chn                        | Richness                   | age_middle                 | 1.350540e-01               | \n",
       "| Chn                        | Shannon                    | age_young                  | 6.598500e-01               | \n",
       "| Chn                        | Shannon                    | age_middle                 | 2.737906e-03               | \n",
       "| Chn                        | Richness                   | age_sex_young              | 1.206104e-01               | \n",
       "| Chn                        | Richness                   | age_sex_middle             | 4.002307e-02               | \n",
       "| Chn                        | Richness                   | age_sex_interaction_young  | 7.402108e-01               | \n",
       "| Chn                        | Richness                   | age_sex_interaction_middle | 4.593593e-01               | \n",
       "| Chn                        | Shannon                    | age_sex_young              | 7.551479e-02               | \n",
       "| Chn                        | Shannon                    | age_sex_middle             | 4.002307e-02               | \n",
       "| Chn                        | Shannon                    | age_sex_interaction_young  | 1.686050e-01               | \n",
       "| Chn                        | Shannon                    | age_sex_interaction_middle | 3.961857e-01               | \n",
       "| Col                        | Richness                   | age_young                  | 3.181024e-03               | \n",
       "| Col                        | Richness                   | age_middle                 | 7.734459e-01               | \n",
       "| Col                        | Shannon                    | age_young                  | 1.608296e-03               | \n",
       "| Col                        | Shannon                    | age_middle                 | 5.238024e-01               | \n",
       "| Col                        | Richness                   | age_sex_young              | 6.312991e-03               | \n",
       "| Col                        | Richness                   | age_sex_middle             | 1.692489e-01               | \n",
       "| Col                        | Shannon                    | age_sex_young              | 2.936359e-01               | \n",
       "| Col                        | Shannon                    | age_sex_middle             | 1.692489e-01               | \n",
       "| Col                        | Richness                   | age_sex_interaction_young  | 9.128351e-01               | \n",
       "| Col                        | Richness                   | age_sex_interaction_middle | 8.155276e-01               | \n",
       "| Col                        | Shannon                    | age_sex_interaction_young  | 7.067406e-01               | \n",
       "| Col                        | Shannon                    | age_sex_interaction_middle | 6.551640e-01               | \n",
       "| US                         | Richness                   | age_young                  | 2.743997e-07               | \n",
       "| US                         | Richness                   | age_middle                 | 4.042339e-01               | \n",
       "| US                         | Shannon                    | age_young                  | 1.941751e-03               | \n",
       "| US                         | Shannon                    | age_middle                 | 3.586374e-01               | \n",
       "| US                         | Richness                   | age_sex_young              | 6.663793e-02               | \n",
       "| US                         | Richness                   | age_sex_middle             | 4.841080e-01               | \n",
       "| US                         | Richness                   | age_sex_interaction_young  | 1.530188e-01               | \n",
       "| US                         | Richness                   | age_sex_interaction_middle | 2.905111e-01               | \n",
       "| US                         | Shannon                    | age_sex_young              | 4.250873e-01               | \n",
       "| US                         | Shannon                    | age_sex_middle             | 4.841080e-01               | \n",
       "| US                         | Shannon                    | age_sex_interaction_young  | 2.132877e-02               | \n",
       "| US                         | Shannon                    | age_sex_interaction_middle | 9.087981e-01               | \n",
       "| UK                         | Richness                   | age_young                  | 7.244974e-04               | \n",
       "| UK                         | Richness                   | age_middle                 | 1.113959e-01               | \n",
       "| UK                         | Shannon                    | age_young                  | 3.420294e-03               | \n",
       "| UK                         | Shannon                    | age_middle                 | 2.059775e-01               | \n",
       "| UK                         | Richness                   | age_sex_young              | 3.019963e-03               | \n",
       "| UK                         | Richness                   | age_sex_middle             | 2.359698e-01               | \n",
       "| UK                         | Richness                   | age_sex_interaction_young  | 9.614258e-02               | \n",
       "| UK                         | Richness                   | age_sex_interaction_middle | 2.092882e-01               | \n",
       "| UK                         | Shannon                    | age_sex_young              | 5.740632e-03               | \n",
       "| UK                         | Shannon                    | age_sex_middle             | 2.359698e-01               | \n",
       "| UK                         | Shannon                    | age_sex_interaction_young  | 3.755357e-02               | \n",
       "| UK                         | Shannon                    | age_sex_interaction_middle | 7.211422e-01               | \n",
       "\n",
       "\n"
      ],
      "text/plain": [
       "   Population Metric   Test                       pval        \n",
       "1  Chn        Richness age_young                  4.145952e-01\n",
       "2  Chn        Richness age_middle                 1.350540e-01\n",
       "3  Chn        Shannon  age_young                  6.598500e-01\n",
       "4  Chn        Shannon  age_middle                 2.737906e-03\n",
       "5  Chn        Richness age_sex_young              1.206104e-01\n",
       "6  Chn        Richness age_sex_middle             4.002307e-02\n",
       "7  Chn        Richness age_sex_interaction_young  7.402108e-01\n",
       "8  Chn        Richness age_sex_interaction_middle 4.593593e-01\n",
       "9  Chn        Shannon  age_sex_young              7.551479e-02\n",
       "10 Chn        Shannon  age_sex_middle             4.002307e-02\n",
       "11 Chn        Shannon  age_sex_interaction_young  1.686050e-01\n",
       "12 Chn        Shannon  age_sex_interaction_middle 3.961857e-01\n",
       "13 Col        Richness age_young                  3.181024e-03\n",
       "14 Col        Richness age_middle                 7.734459e-01\n",
       "15 Col        Shannon  age_young                  1.608296e-03\n",
       "16 Col        Shannon  age_middle                 5.238024e-01\n",
       "17 Col        Richness age_sex_young              6.312991e-03\n",
       "18 Col        Richness age_sex_middle             1.692489e-01\n",
       "19 Col        Shannon  age_sex_young              2.936359e-01\n",
       "20 Col        Shannon  age_sex_middle             1.692489e-01\n",
       "21 Col        Richness age_sex_interaction_young  9.128351e-01\n",
       "22 Col        Richness age_sex_interaction_middle 8.155276e-01\n",
       "23 Col        Shannon  age_sex_interaction_young  7.067406e-01\n",
       "24 Col        Shannon  age_sex_interaction_middle 6.551640e-01\n",
       "25 US         Richness age_young                  2.743997e-07\n",
       "26 US         Richness age_middle                 4.042339e-01\n",
       "27 US         Shannon  age_young                  1.941751e-03\n",
       "28 US         Shannon  age_middle                 3.586374e-01\n",
       "29 US         Richness age_sex_young              6.663793e-02\n",
       "30 US         Richness age_sex_middle             4.841080e-01\n",
       "31 US         Richness age_sex_interaction_young  1.530188e-01\n",
       "32 US         Richness age_sex_interaction_middle 2.905111e-01\n",
       "33 US         Shannon  age_sex_young              4.250873e-01\n",
       "34 US         Shannon  age_sex_middle             4.841080e-01\n",
       "35 US         Shannon  age_sex_interaction_young  2.132877e-02\n",
       "36 US         Shannon  age_sex_interaction_middle 9.087981e-01\n",
       "37 UK         Richness age_young                  7.244974e-04\n",
       "38 UK         Richness age_middle                 1.113959e-01\n",
       "39 UK         Shannon  age_young                  3.420294e-03\n",
       "40 UK         Shannon  age_middle                 2.059775e-01\n",
       "41 UK         Richness age_sex_young              3.019963e-03\n",
       "42 UK         Richness age_sex_middle             2.359698e-01\n",
       "43 UK         Richness age_sex_interaction_young  9.614258e-02\n",
       "44 UK         Richness age_sex_interaction_middle 2.092882e-01\n",
       "45 UK         Shannon  age_sex_young              5.740632e-03\n",
       "46 UK         Shannon  age_sex_middle             2.359698e-01\n",
       "47 UK         Shannon  age_sex_interaction_young  3.755357e-02\n",
       "48 UK         Shannon  age_sex_interaction_middle 7.211422e-01"
      ]
     },
     "metadata": {},
     "output_type": "display_data"
    }
   ],
   "source": [
    "P_values"
   ]
  },
  {
   "cell_type": "code",
   "execution_count": null,
   "metadata": {},
   "outputs": [],
   "source": []
  }
 ],
 "metadata": {
  "kernelspec": {
   "display_name": "R",
   "language": "R",
   "name": "ir"
  },
  "language_info": {
   "codemirror_mode": "r",
   "file_extension": ".r",
   "mimetype": "text/x-r-source",
   "name": "R",
   "pygments_lexer": "r",
   "version": "3.5.1"
  }
 },
 "nbformat": 4,
 "nbformat_minor": 2
}
